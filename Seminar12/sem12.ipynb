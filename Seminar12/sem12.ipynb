{
 "cells": [
  {
   "cell_type": "code",
   "execution_count": 1,
   "metadata": {},
   "outputs": [],
   "source": [
    "# Дана задача:\n",
    "# К аналитику обратился риэлтор c задачей выставить ценник для продажи \n",
    "# объектов недвижимости площадью 48м2 и 54м2. \n",
    "# В ходе работы над задачей аналитик выяснил, что:\n",
    "# объект 31м2 стоит $19310\n",
    "# объект 51м2 стоит $52150\n",
    "# объект 61м2 стоит $74570\n",
    "# Вопрос: что. сказать риелтору?"
   ]
  },
  {
   "cell_type": "code",
   "execution_count": 2,
   "metadata": {},
   "outputs": [
    {
     "name": "stdout",
     "output_type": "stream",
     "text": [
      "[(20, 2, 28)]\n"
     ]
    }
   ],
   "source": [
    "import sympy\n",
    "from sympy.solvers.solveset import linsolve\n",
    "\n",
    "a, b, c = sympy.symbols('a, b, c')\n",
    "coeff = list(linsolve([a*31**2 + b*31 + c - 19310,\n",
    "                     a*51**2 + b*51 + c - 52150,\n",
    "                     a*61**2 + b*61 + c - 74570],\n",
    "                     (a, b, c)))\n",
    "print(coeff) # [(20, 2, 28)]"
   ]
  },
  {
   "cell_type": "code",
   "execution_count": 3,
   "metadata": {},
   "outputs": [
    {
     "ename": "ValueError",
     "evalue": "invalid literal for int() with base 10: ''",
     "output_type": "error",
     "traceback": [
      "\u001b[1;31m---------------------------------------------------------------------------\u001b[0m",
      "\u001b[1;31mValueError\u001b[0m                                Traceback (most recent call last)",
      "Cell \u001b[1;32mIn [3], line 3\u001b[0m\n\u001b[0;32m      1\u001b[0m \u001b[39m# вводим для проверки известное значение => 31 и получаем 19310\u001b[39;00m\n\u001b[0;32m      2\u001b[0m \u001b[39m# затем подставляем площади 48 и 54 и получаем искомые цены\u001b[39;00m\n\u001b[1;32m----> 3\u001b[0m s \u001b[39m=\u001b[39m \u001b[39mint\u001b[39;49m(\u001b[39minput\u001b[39;49m())\n\u001b[0;32m      4\u001b[0m price \u001b[39m=\u001b[39m coeff[\u001b[39m0\u001b[39m][\u001b[39m0\u001b[39m]\u001b[39m*\u001b[39ms\u001b[39m*\u001b[39m\u001b[39m*\u001b[39m\u001b[39m2\u001b[39m \u001b[39m+\u001b[39m coeff[\u001b[39m0\u001b[39m][\u001b[39m1\u001b[39m]\u001b[39m*\u001b[39ms \u001b[39m+\u001b[39m coeff[\u001b[39m0\u001b[39m][\u001b[39m2\u001b[39m]\n\u001b[0;32m      5\u001b[0m \u001b[39mprint\u001b[39m(price)\n",
      "\u001b[1;31mValueError\u001b[0m: invalid literal for int() with base 10: ''"
     ]
    }
   ],
   "source": [
    "# вводим для проверки известное значение => 31 и получаем 19310\n",
    "# затем подставляем площади 48 и 54 и получаем искомые цены\n",
    "s = int(input())\n",
    "price = coeff[0][0]*s**2 + coeff[0][1]*s + coeff[0][2]\n",
    "print(price)"
   ]
  }
 ],
 "metadata": {
  "kernelspec": {
   "display_name": "Python 3.11.0 64-bit (microsoft store)",
   "language": "python",
   "name": "python3"
  },
  "language_info": {
   "codemirror_mode": {
    "name": "ipython",
    "version": 3
   },
   "file_extension": ".py",
   "mimetype": "text/x-python",
   "name": "python",
   "nbconvert_exporter": "python",
   "pygments_lexer": "ipython3",
   "version": "3.11.0"
  },
  "orig_nbformat": 4,
  "vscode": {
   "interpreter": {
    "hash": "30655b0c1fc2685b8435d376e469386ca5c88e793c70994a8dc7dceabeb10022"
   }
  }
 },
 "nbformat": 4,
 "nbformat_minor": 2
}
